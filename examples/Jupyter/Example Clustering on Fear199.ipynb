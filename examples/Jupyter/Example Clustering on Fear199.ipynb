{
 "cells": [
  {
   "cell_type": "code",
   "execution_count": 3,
   "metadata": {
    "collapsed": true
   },
   "outputs": [],
   "source": [
    "import os\n",
    "import csv\n",
    "import numpy as np\n",
    "import matplotlib.pyplot as plt\n",
    "\n",
    "from mpl_toolkits.mplot3d import Axes3D\n",
    "from time import time\n",
    "from sklearn import metrics\n",
    "from sklearn.cluster import KMeans\n",
    "from sklearn.datasets import load_digits\n",
    "from sklearn.decomposition import PCA\n",
    "from sklearn.preprocessing import scale"
   ]
  },
  {
   "cell_type": "code",
   "execution_count": 7,
   "metadata": {
    "collapsed": false
   },
   "outputs": [],
   "source": [
    "filename = '../csv/Fear199localeq.csv'\n",
    "\n",
    "data = np.genfromtxt(\n",
    "    filename,                              # file name\n",
    "    skip_header=0,                         # lines to skip at the top\n",
    "    skip_footer=0,                         # lines to skip at the bottom\n",
    "    delimiter=',',                         # column delimiter\n",
    "    dtype='int32',                         # data type\n",
    "    filling_values=0,                      # fill missing values with 0\n",
    "    usecols = (0,1,2),                     # columns to read (omit brightness)\n",
    "    names=['X', 'Y', 'Z'])                 # column names"
   ]
  },
  {
   "cell_type": "code",
   "execution_count": 8,
   "metadata": {
    "collapsed": false
   },
   "outputs": [
    {
     "name": "stdout",
     "output_type": "stream",
     "text": [
      "0\n",
      "0\n",
      "27\n",
      "9651\n"
     ]
    }
   ],
   "source": [
    "minimum_x = np.amin(data['X'])\n",
    "maximum_x = np.amax(data['X'])\n",
    "\n",
    "minimum_y = np.amin(data['Y'])\n",
    "maximum_y = np.amax(data['Y'])\n",
    "\n",
    "minimum_z = np.amin(data['Z'])\n",
    "maximum_z = np.amax(data['Z'])\n",
    "\n",
    "print minimum_x\n",
    "print minimum_y\n",
    "print minimum_z\n",
    "\n",
    "print len(data)"
   ]
  },
  {
   "cell_type": "code",
   "execution_count": 9,
   "metadata": {
    "collapsed": true
   },
   "outputs": [],
   "source": [
    "# I followed this tutorial: http://scikit-learn.org/stable/tutorial/basic/tutorial.html"
   ]
  },
  {
   "cell_type": "code",
   "execution_count": 10,
   "metadata": {
    "collapsed": false
   },
   "outputs": [],
   "source": [
    "# We have 9651 (len(data)) samples, and 3 features (X, Y, Z)\n",
    "# Thus, data should be a (9651 x 3) array"
   ]
  },
  {
   "cell_type": "code",
   "execution_count": 11,
   "metadata": {
    "collapsed": false
   },
   "outputs": [
    {
     "name": "stdout",
     "output_type": "stream",
     "text": [
      "[  0  82  85 ..., 503 523   0]\n",
      "9652\n",
      "[  0  91 114 ..., 143 119   0]\n",
      "9652\n",
      "[1216  209   60 ..., 1214  644    0]\n",
      "9652\n",
      "[  0  82  85 ..., 503 523   0]\n",
      "(9652,)\n",
      "(9652,)\n",
      "(9652,)\n",
      "<type 'numpy.ndarray'>\n"
     ]
    }
   ],
   "source": [
    "xcoord = np.array([0])\n",
    "ycoord = np.array([0])\n",
    "zcoord = np.array([0])\n",
    "\n",
    "for i in range(0, len(data)):\n",
    "    xcoord = np.insert(xcoord, i, data['X'][i])\n",
    "    ycoord = np.insert(ycoord, i, data['Y'][i])\n",
    "    zcoord = np.insert(zcoord, i, data['Z'][i])\n",
    "    i = i + 1\n",
    "    \n",
    "print xcoord\n",
    "print len(xcoord)\n",
    "\n",
    "print ycoord\n",
    "print len(ycoord)\n",
    "\n",
    "print zcoord\n",
    "print len(zcoord)\n",
    "\n",
    "xcoordT = np.transpose(xcoord)\n",
    "ycoordT = np.transpose(ycoord)\n",
    "zcoordT = np.transpose(zcoord)\n",
    "print xcoordT\n",
    "print np.shape(xcoordT)\n",
    "print np.shape(ycoordT)\n",
    "print np.shape(zcoordT)\n",
    "print type(xcoordT)\n"
   ]
  },
  {
   "cell_type": "code",
   "execution_count": 12,
   "metadata": {
    "collapsed": false
   },
   "outputs": [
    {
     "name": "stdout",
     "output_type": "stream",
     "text": [
      "[[   0    0 1216]\n",
      " [  82   91  209]\n",
      " [  85  114   60]\n",
      " ..., \n",
      " [ 503  143 1214]\n",
      " [ 523  119  644]\n",
      " [   0    0    0]]\n"
     ]
    }
   ],
   "source": [
    "final = np.column_stack((xcoordT,ycoordT))\n",
    "final = np.column_stack((final,zcoordT))\n",
    "print final"
   ]
  },
  {
   "cell_type": "code",
   "execution_count": 13,
   "metadata": {
    "collapsed": false
   },
   "outputs": [
    {
     "name": "stdout",
     "output_type": "stream",
     "text": [
      "9652\n",
      "[[-4.85167244 -1.47636443  3.18641629]\n",
      " [-3.56174336 -0.81134188 -3.36715879]\n",
      " [-3.51455084 -0.64325925 -4.33685361]\n",
      " ..., \n",
      " [ 3.06094127 -0.43132899  3.17340026]\n",
      " [ 3.37555812 -0.60671955 -0.53617054]\n",
      " [-4.85167244 -1.47636443 -4.72733475]]\n",
      "9652\n",
      "3\n"
     ]
    },
    {
     "name": "stderr",
     "output_type": "stream",
     "text": [
      "/Users/Tony/anaconda/lib/python2.7/site-packages/sklearn/utils/validation.py:420: DataConversionWarning: Data with input dtype int64 was converted to float64 by the scale function.\n",
      "  warnings.warn(msg, DataConversionWarning)\n"
     ]
    }
   ],
   "source": [
    "print len(final)\n",
    "dataSAMP = scale(final)\n",
    "n_samples, n_features = dataSAMP.shape\n",
    "\n",
    "#Correct number of n_samples (9652) and n_features (3)\n",
    "print dataSAMP\n",
    "print n_samples\n",
    "print n_features"
   ]
  },
  {
   "cell_type": "code",
   "execution_count": 14,
   "metadata": {
    "collapsed": false
   },
   "outputs": [],
   "source": [
    "def bench_k_means(estimator, name, data):\n",
    "    t0 = time()\n",
    "    estimator.fit(dataSAMP)"
   ]
  },
  {
   "cell_type": "code",
   "execution_count": 15,
   "metadata": {
    "collapsed": false
   },
   "outputs": [
    {
     "name": "stdout",
     "output_type": "stream",
     "text": [
      "_______________________________________________________________________________\n"
     ]
    }
   ],
   "source": [
    "bench_k_means(KMeans(init='k-means++', n_clusters=2, n_init=10),\n",
    "              name=\"k-means++\", data=dataSAMP)\n",
    "\n",
    "bench_k_means(KMeans(init='random', n_clusters=2, n_init=10),\n",
    "              name=\"random\", data=dataSAMP)\n",
    "print(79 * '_')"
   ]
  },
  {
   "cell_type": "code",
   "execution_count": 16,
   "metadata": {
    "collapsed": false
   },
   "outputs": [],
   "source": [
    "kmeans = KMeans(init ='k-means++', n_clusters = 3, n_init=10)\n",
    "fitted = kmeans.fit(dataSAMP)"
   ]
  },
  {
   "cell_type": "code",
   "execution_count": 28,
   "metadata": {
    "collapsed": false
   },
   "outputs": [
    {
     "name": "stdout",
     "output_type": "stream",
     "text": [
      "<type 'numpy.ndarray'>\n"
     ]
    }
   ],
   "source": [
    "centroids = kmeans.cluster_centers_\n",
    "print type(centroids)\n",
    "\n",
    "#In 3D:\n",
    "ax = Axes3D(plt.gcf())\n",
    "ax.scatter(dataSAMP[:, 0], dataSAMP[:, 1], dataSAMP[:, 2],\n",
    "          s = 5, marker = 'x', color = 'white')\n",
    "ax.scatter(centroids[:, 0], centroids[:, 1], centroids[:, 2],\n",
    "            marker='o', s=30, linewidths=3,\n",
    "            color='orange', zorder=10)\n",
    "plt.savefig(filename + 'kmeans.png', bbox_inches='tight')\n",
    "\n",
    "#In 2D Scatter:\n",
    "#plt.plot(dataSAMP[:, 0], dataSAMP[:, 1], 'k.', markersize=2)\n",
    "#plt.scatter(centroids[:, 0], centroids[:, 1],\n",
    "#            marker='x', s=169, linewidths=3,\n",
    "#            color='blue', zorder=10)\n",
    "#plt.savefig(filename + 'kmeans.png', bbox_inches='tight')"
   ]
  },
  {
   "cell_type": "code",
   "execution_count": null,
   "metadata": {
    "collapsed": true
   },
   "outputs": [],
   "source": []
  },
  {
   "cell_type": "code",
   "execution_count": null,
   "metadata": {
    "collapsed": true
   },
   "outputs": [],
   "source": []
  }
 ],
 "metadata": {
  "anaconda-cloud": {},
  "kernelspec": {
   "display_name": "Python [Root]",
   "language": "python",
   "name": "Python [Root]"
  },
  "language_info": {
   "codemirror_mode": {
    "name": "ipython",
    "version": 2
   },
   "file_extension": ".py",
   "mimetype": "text/x-python",
   "name": "python",
   "nbconvert_exporter": "python",
   "pygments_lexer": "ipython2",
   "version": "2.7.12"
  }
 },
 "nbformat": 4,
 "nbformat_minor": 0
}
