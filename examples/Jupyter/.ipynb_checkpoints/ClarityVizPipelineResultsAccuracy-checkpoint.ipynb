{
 "cells": [
  {
   "cell_type": "markdown",
   "metadata": {},
   "source": [
    "# Testing the pipeline and seeing if results are accurate."
   ]
  },
  {
   "cell_type": "markdown",
   "metadata": {},
   "source": [
    "## img -> nii -> csv -> plotly"
   ]
  },
  {
   "cell_type": "code",
   "execution_count": null,
   "metadata": {
    "collapsed": true
   },
   "outputs": [],
   "source": [
    "from clarityviz import claritybase\n",
    "from clarityviz import densitygraph\n",
    "\n",
    "c = claritybase(token, source_directory)\n",
    "\n",
    "c.applyLocalEq()\n",
    "\n",
    "c.loadGeneratedNii()\n",
    "\n",
    "c.calculatePoints(0.9, 0.005)\n",
    "\n",
    "c.savePoints()\n",
    "\n",
    "c.generate_plotly_html()"
   ]
  },
  {
   "cell_type": "markdown",
   "metadata": {},
   "source": [
    "# plots\n",
    "\n",
    "### Fear199\n",
    "confirmed plot:\n",
    "https://neurodatadesign.github.io/seelviz/reveal/html/Fear199localeq.html\n",
    "\n",
    "clarityviz package plot:\n",
    "https://neurodatadesign.github.io/seelviz/reveal/html/clarityvizhtmls/Fear199plotly.html\n",
    "\n",
    "\n",
    "### Cocaine174\n",
    "confirmed plot:\n",
    "https://neurodatadesign.github.io/seelviz/reveal/html/Cocaine174localeq.html\n",
    "\n",
    "clarityviz package plot:\n",
    "https://neurodatadesign.github.io/seelviz/reveal/html/clarityvizhtmls/Cocaine174plotly.html\n",
    "\n",
    "### Control181\n",
    "confirmed plot:\n",
    "https://neurodatadesign.github.io/seelviz/reveal/html/Control181localeq.html\n",
    "\n",
    "clarityviz package plot:\n",
    "https://neurodatadesign.github.io/seelviz/reveal/html/clarityvizhtmls/Control181plotly.html"
   ]
  },
  {
   "cell_type": "markdown",
   "metadata": {},
   "source": [
    "# Density graphs"
   ]
  },
  {
   "cell_type": "code",
   "execution_count": null,
   "metadata": {
    "collapsed": true
   },
   "outputs": [],
   "source": [
    "from clarityviz import densitygraph\n",
    "\n",
    "dg = densitygraph('Fear199')\n",
    "dg.generate_density_graph()\n",
    "dg.generate_heat_map()"
   ]
  },
  {
   "cell_type": "markdown",
   "metadata": {},
   "source": [
    "### Fear199\n",
    "confirmed plot:\n",
    "https://neurodatadesign.github.io/seelviz/reveal/html/graphmlhtml/Fear199.graphml.html\n",
    "\n",
    "clarityviz package plot:\n",
    "https://neurodatadesign.github.io/seelviz/reveal/html/clarityvizhtmls/Fear199_density.html"
   ]
  },
  {
   "cell_type": "code",
   "execution_count": null,
   "metadata": {
    "collapsed": true
   },
   "outputs": [],
   "source": []
  }
 ],
 "metadata": {
  "kernelspec": {
   "display_name": "Python 3",
   "language": "python",
   "name": "python3"
  },
  "language_info": {
   "codemirror_mode": {
    "name": "ipython",
    "version": 3
   },
   "file_extension": ".py",
   "mimetype": "text/x-python",
   "name": "python",
   "nbconvert_exporter": "python",
   "pygments_lexer": "ipython3",
   "version": "3.5.2"
  }
 },
 "nbformat": 4,
 "nbformat_minor": 0
}
