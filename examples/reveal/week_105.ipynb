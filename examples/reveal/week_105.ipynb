{
 "cells": [
  {
   "cell_type": "markdown",
   "metadata": {},
   "source": [
    "# October 5, 2016\n",
    "## Deliverables\n",
    "\n",
    "### Individual Tasks:\n",
    " \n",
    "**Jon:**\n",
    "- [x] Complete pipeline and make Python package.  Pipeline code should be [pip installable](https://pypi.python.org/pypi/clarityviz/0.0.1).\n",
    "- [x] Provide evidence that the pipeline works.  Testing [here](https://github.com/NeuroDataDesign/seelviz/blob/gh-pages/Jupyter/ClarityVizPipelineResultsAccuracy.ipynb).\n",
    "- [x] Complete [documentation](https://github.com/NeuroDataDesign/seelviz/blob/gh-pages/Jupyter/ClarityViz%20Tutorial.ipynb) and organize Github repository \n",
    "\n",
    "**Luke:**\n",
    "- [x] Create [Docker](https://hub.docker.com/r/lkzhu1/ubuntu/) for pipeline with Albert once pipeline is complete \n",
    "\n",
    "**Tony:**\n",
    "- [x] Addressed Davi Bock's issue - make a plotly plot of Cocaine174 where voxels are colored according to component size.\n",
    "    - [Jupyter Notebook containing a generalized Plotly plotting script for density](https://neurodatadesign.github.io/seelviz/reveal/october5stuff/ChangingPlotlyColorByDensity.html).\n",
    "    - Deliverable was to apply it to Cocaine174 using ball size of 25, to color the voxels according to component size.\n",
    "        [Here](https://neurodatadesign.github.io/seelviz/reveal/html/graphmlhtmls/Cocaine174localeq.5000.graphml.html) is a 5000 point downsampled version I made initially (verified accuracy by finding max brightness values and comparing them to the node values on the chart).\n",
    "        [Here](https://neurodatadesign.github.io/seelviz/reveal/html/graphmlhtmls/Cocaine174localeqbig.graphml.html) is the 40k node false color version I made.  I also checked the maximum brightness value and compared it to the brightness I got by scanning the list.  \n",
    "    - For cross referencing, made a heat map coded for each 5%; shown [here](https://neurodatadesign.github.io/seelviz/reveal/html/graphmlhtmls/Cocaine174localeq.5000.graphmlheatmap.html) is the corresponding edge to color mapping for the downsampled Cocaine174.  [Here](https://neurodatadesign.github.io/seelviz/reveal/html/graphmlhtmls/Cocaine174localeqbig.graphmlheatmap.html) is the corresponding edge to color mapping for the full scale Cocaine174 plot.\n",
    "\n",
    "**Albert:**\n",
    "- [x] Create [Docker](https://hub.docker.com/r/lkzhu1/ubuntu/) for pipeline with Luke.\n",
    "- [x] Set up [package page](https://github.com/alee156/clviz) for prototype with installation instructions.  Build passes on [travis-ci](https://travis-ci.org/alee156/clviz).\n",
    "\n",
    "---\n",
    "### Group Task for Albert, Luke, Tony:\n",
    "Show the 40,000 brightest points in registered space relative to the registered region.  Tasks as follows:\n",
    "\n",
    "**Albert:**\n",
    "- [x] Downsample or obtain atlas and one raw image so that they are less than 2 GB in size\n",
    "    - Learned from Kwame how to downsample effectively using \"spacing\".\n",
    "    - https://github.com/NeuroDataDesign/seelviz/blob/gh-pages/miniatlas.nii\n",
    "    - https://github.com/NeuroDataDesign/seelviz/blob/gh-pages/Ndreg%20Simple%20Downsampling%20Method.ipynb\n",
    "- [x] Write code for aligning atlas to the raw images instead of other way around:\n",
    "    - https://github.com/NeuroDataDesign/seelviz/blob/gh-pages/ReverseAlignmentDownsampled.ipynb\n",
    "    - https://github.com/NeuroDataDesign/seelviz/blob/gh-pages/albert/brainalign.py\n",
    "    - https://github.com/NeuroDataDesign/seelviz/blob/gh-pages/albert/reverse_affine_annotations.png\n",
    "- [x] Write code used for resolution 5 images on server\n",
    "    - https://github.com/NeuroDataDesign/seelviz/blob/gh-pages/albert/brainalign.py\n",
    "\n",
    "Luke:\n",
    "- [x] Run code on resolution 5 images using server\n",
    "- [x] Create plotly plot representing each region of the brain as a different color\n",
    "    - https://neurodatadesign.github.io/seelviz/reveal/html/graphmlhtmls/Control258localeq.region_color.html\n",
    "- [x] Sum intensity in each region\n",
    "    - https://neurodatadesign.github.io/seelviz/reveal/html/Control258localeq.region_activity.html\n",
    "    - https://neurodatadesign.github.io/seelviz/reveal/html/Control258localeq.region_activity_blackbg.html\n",
    "\n",
    "Tony:\n",
    "- [?] Create plotly plot of graphml network on new brain\n",
    "    - [Jupyter notebook code for raw graphML to 3D plot with edges](https://neurodatadesign.github.io/seelviz/reveal/october5stuff/PlotlyGraphMLOnly.html).\n",
    "    - [Control258](https://neurodatadesign.github.io/seelviz/reveal/html/graphmlhtmls/Control258localeq.graphml.html) 40k nodes.\n",
    "    - [Aut1374](https://neurodatadesign.github.io/seelviz/reveal/html/graphmlhtmls/Aut1374localeq.40000.100k.graphml.html) 100k nodes.\n",
    "        - Need the new raw .nii file for Aut1374, this graphml was still captured from the old .nii\n",
    "        - Data not fully propogated for Aut1374 new brain (or propagated properly)\n",
    "- [x] Setup server and install all packages\n",
    "    - Procured and setup a Google Cloud instance (similar to an Amazon AWS EC2 instance) free trial with $300 credits.\n",
    "    ![googlecloudpng](october5stuff/googlecloudpng.png)\n",
    "    ![sshgooglecloud](october5stuff/sshgooglecloud.png)\n",
    "    ![runningdockerpackages](october5stuff/runningdockerpackages.png)\n",
    "    "
   ]
  },
  {
   "cell_type": "code",
   "execution_count": null,
   "metadata": {
    "collapsed": true
   },
   "outputs": [],
   "source": []
  }
 ],
 "metadata": {
  "anaconda-cloud": {},
  "kernelspec": {
   "display_name": "Python [Root]",
   "language": "python",
   "name": "Python [Root]"
  },
  "language_info": {
   "codemirror_mode": {
    "name": "ipython",
    "version": 2
   },
   "file_extension": ".py",
   "mimetype": "text/x-python",
   "name": "python",
   "nbconvert_exporter": "python",
   "pygments_lexer": "ipython2",
   "version": "2.7.12"
  }
 },
 "nbformat": 4,
 "nbformat_minor": 0
}
