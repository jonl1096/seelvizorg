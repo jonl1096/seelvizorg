{
 "cells": [
  {
   "cell_type": "code",
   "execution_count": 1,
   "metadata": {
    "collapsed": true
   },
   "outputs": [],
   "source": [
    "import os\n",
    "from IPython.core.display import Image, display"
   ]
  },
  {
   "cell_type": "markdown",
   "metadata": {},
   "source": [
    "## Deliverables\n",
    "\n",
    "### Tony\n",
    "* Clustering -- learn about clustering. Make a LaTeX (or Markdown) file explaining what K-means, K-medeods, Spectral, Louvain do. Explain basics of implementation, and include a pro/con table discussing what each does well/poorly with examples for each. Include basic algorithms.\n",
    "* Write pseudocode for clustering graphs [see Ryan's Git Issue on LaTeX]\n",
    "    * https://neurodatadesign.github.io/seelviz/Jupyter/ClusteringTechniques.html\n",
    "\n",
    "Reach Goal:\n",
    "* Jupyter notebook with clustering on our data [here](https://github.com/NeuroDataDesign/seelviz/blob/gh-pages/Jupyter/Example%20Clustering%20on%20Fear199.ipynb).\n",
    "    * As per Jovo's recommendation, I first ran example data to make sure I understood the basic premises of what I was doing  (used sample data set Images from SciKit, for handwriting)\n",
    "    * Then attempted to do clustering on Fear199 to implement K-means\n",
    "    ![Image of K-Means in 3D, 5 clusters](Fear199localeq.csvkmeans3D.png)\n",
    "    * 3D representation makes it hard to show the clusters (orange) even when I biggify the points. Since there are an overwhelming number of regular points, I plotted along just XY to confirm my results.\n",
    "    ![Image of K-Means on XY scatter, 2 clusters](Fear199localeqkmeans2.png)\n",
    "    ![Image of K-Means on XY scatter, 5 clusters](Fear199localeq.csvkmeans5.png)\n",
    "\n",
    "### Jon\n",
    "* Turn API into pipeline form: Running should output wanted graphs\n",
    "    * https://github.com/NeuroDataDesign/seelviz/blob/gh-pages/Jupyter/ClarityViz%20Pipeline.ipynb\n",
    "\n",
    "### Albert\n",
    "* Kwame pipeline tutorials - deliverable is Jupyter Notebook running his tutorial\n",
    "    * https://github.com/NeuroDataDesign/seelviz/blob/gh-pages/Kwame%20Registration%20Notebook%201.ipynb    \n",
    "    * https://github.com/NeuroDataDesign/seelviz/blob/gh-pages/Kwame%20Registration%20Notebook%202.ipynb\n",
    "* Get the atlas aligned data from Kwame\n",
    "    * https://github.com/NeuroDataDesign/seelviz/blob/gh-pages/croppedbrain.jpg\n",
    "* Acquire new data and see if we still have problems with it.\n",
    "    * https://github.com/NeuroDataDesign/seelviz/blob/gh-pages/newBrain.png\n",
    "* Using the atlas aligned images, play around with atlas coordinates\n",
    "    * PROBLEMS: We still have problems, largely we need the new data to be propagated in order for us to play     around with it. We have Kwame's images however one of the images seem to be \"damaged\"\n",
    "    * https://github.com/NeuroDataDesign/seelviz/blob/gh-pages/novisionbrain.png\n",
    "    * https://github.com/NeuroDataDesign/seelviz/blob/gh-pages/damagedbrain.png\n",
    "\n",
    "Reach Goal:\n",
    "*  Run Kwame Pipeline on new data\n",
    "    * Incomplete, as the other file was not propagated thus I was unable to run it through Kwame's pipeline\n",
    "    * https://github.com/NeuroDataDesign/seelviz/blob/gh-pages/AileyRegistration.ipynb\n",
    "\n",
    "### Luke\n",
    "* Go back and make weighted versions of our graphs (decide on a weight function [e^(-distance), for instance])\n",
    "* Make graphs similar to Greg's\n",
    "    * https://neurodatadesign.github.io/seelviz/Jupyter/CombinedPlotsandGraphStatistics.html"
   ]
  },
  {
   "cell_type": "code",
   "execution_count": null,
   "metadata": {
    "collapsed": true
   },
   "outputs": [],
   "source": []
  }
 ],
 "metadata": {
  "anaconda-cloud": {},
  "kernelspec": {
   "display_name": "Python [Root]",
   "language": "python",
   "name": "Python [Root]"
  },
  "language_info": {
   "codemirror_mode": {
    "name": "ipython",
    "version": 2
   },
   "file_extension": ".py",
   "mimetype": "text/x-python",
   "name": "python",
   "nbconvert_exporter": "python",
   "pygments_lexer": "ipython2",
   "version": "2.7.12"
  }
 },
 "nbformat": 4,
 "nbformat_minor": 0
}
