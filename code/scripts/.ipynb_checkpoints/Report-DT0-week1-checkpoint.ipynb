{
 "cells": [
  {
   "cell_type": "code",
   "execution_count": 2,
   "metadata": {
    "collapsed": true
   },
   "outputs": [],
   "source": [
    "import os\n",
    "PATH=\"/Users/albertlee/claritycontrol/code/scripts/\" # use your own path\n",
    "os.chdir(PATH)\n",
    "\n",
    "import clarity as cl  # I wrote this module for easier operations on data\n",
    "import clarity.resources as rs\n",
    "import csv,gc  # garbage memory collection :)\n",
    "\n",
    "import numpy as np\n",
    "import matplotlib.pyplot as plt\n",
    "from mpl_toolkits.mplot3d import axes3d\n",
    "import jgraph as ig\n",
    "\n",
    "import plotly\n",
    "import plotly.plotly as py\n",
    "import plotly.graph_objs as go\n",
    "\n",
    "%matplotlib inline"
   ]
  },
  {
   "cell_type": "code",
   "execution_count": 5,
   "metadata": {
    "collapsed": false
   },
   "outputs": [
    {
     "name": "stdout",
     "output_type": "stream",
     "text": [
      "Image Loaded: ../data/raw/Cocaine174.img\n",
      "Coverting to points...\n",
      "token=Cocaine174\n",
      "total=751091775\n",
      "max=3693.000000\n",
      "threshold=0.400000\n",
      "sample=0.500000\n",
      "(This will take couple minutes)\n",
      "Above threshold=70334\n",
      "Samples=35210\n",
      "Finished\n",
      "Cocaine174.csv saved.\n"
     ]
    },
    {
     "data": {
      "text/plain": [
       "0"
      ]
     },
     "execution_count": 5,
     "metadata": {},
     "output_type": "execute_result"
    }
   ],
   "source": [
    "c = cl.Clarity('Cocaine174')\n",
    "    #fname = rs.HIST_DATA_PATH+token+\".csv\"\n",
    "claritycsv = c.loadImg().imgToPoints(threshold=0.4,sample=0.5).savePoints()\n",
    "    #np.savetxt(token,claritycsv,delimiter=',')\n",
    "print \"Cocaine174.csv saved.\"\n",
    "del c\n",
    "gc.collect()"
   ]
  },
  {
   "cell_type": "code",
   "execution_count": 18,
   "metadata": {
    "collapsed": false
   },
   "outputs": [
    {
     "name": "stdout",
     "output_type": "stream",
     "text": [
      "Image Loaded: ../data/raw/Cocaine175.img\n",
      "Coverting to points...\n",
      "token=Cocaine175\n",
      "total=591495168\n",
      "max=7136.000000\n",
      "threshold=0.100000\n",
      "sample=0.070000\n",
      "(This will take couple minutes)\n",
      "Above threshold=539201\n",
      "Samples=37866\n",
      "Finished\n",
      "Cocaine175.csv saved.\n"
     ]
    },
    {
     "data": {
      "text/plain": [
       "0"
      ]
     },
     "execution_count": 18,
     "metadata": {},
     "output_type": "execute_result"
    }
   ],
   "source": [
    "c = cl.Clarity('Cocaine175')\n",
    "    #fname = rs.HIST_DATA_PATH+token+\".csv\"\n",
    "claritycsv = c.loadImg().imgToPoints(threshold=0.1,sample=0.07).savePoints()\n",
    "    #np.savetxt(token,claritycsv,delimiter=',')\n",
    "print \"Cocaine175.csv saved.\"\n",
    "del c\n",
    "gc.collect()"
   ]
  },
  {
   "cell_type": "code",
   "execution_count": 34,
   "metadata": {
    "collapsed": false
   },
   "outputs": [
    {
     "name": "stdout",
     "output_type": "stream",
     "text": [
      "Image Loaded: ../data/raw/Cocaine178.img\n",
      "Coverting to points...\n",
      "token=Cocaine178\n",
      "total=606486528\n",
      "max=4654.000000\n",
      "threshold=0.200000\n",
      "sample=0.070000\n",
      "(This will take couple minutes)\n",
      "Above threshold=553499\n",
      "Samples=38806\n",
      "Finished\n",
      "Cocaine178.csv saved.\n"
     ]
    },
    {
     "data": {
      "text/plain": [
       "0"
      ]
     },
     "execution_count": 34,
     "metadata": {},
     "output_type": "execute_result"
    }
   ],
   "source": [
    "c = cl.Clarity('Cocaine178')\n",
    "    #fname = rs.HIST_DATA_PATH+token+\".csv\"\n",
    "claritycsv = c.loadImg().imgToPoints(threshold=0.2,sample=0.07).savePoints()\n",
    "    #np.savetxt(token,claritycsv,delimiter=',')\n",
    "print \"Cocaine178.csv saved.\"\n",
    "del c\n",
    "gc.collect()"
   ]
  },
  {
   "cell_type": "code",
   "execution_count": 11,
   "metadata": {
    "collapsed": false
   },
   "outputs": [
    {
     "name": "stdout",
     "output_type": "stream",
     "text": [
      "Image Loaded: ../data/raw/Control181.img\n",
      "Coverting to points...\n",
      "token=Control181\n",
      "total=449253376\n",
      "max=4230.000000\n",
      "threshold=0.400000\n",
      "sample=0.350000\n",
      "(This will take couple minutes)\n",
      "Above threshold=102758\n",
      "Samples=36051\n",
      "Finished\n",
      "Control181.csv saved.\n"
     ]
    },
    {
     "data": {
      "text/plain": [
       "0"
      ]
     },
     "execution_count": 11,
     "metadata": {},
     "output_type": "execute_result"
    }
   ],
   "source": [
    "c = cl.Clarity('Control181')\n",
    "    #fname = rs.HIST_DATA_PATH+token+\".csv\"\n",
    "claritycsv = c.loadImg().imgToPoints(threshold=0.4,sample=0.35).savePoints()\n",
    "    #np.savetxt(token,claritycsv,delimiter=',')\n",
    "print \"Control181.csv saved.\"\n",
    "del c\n",
    "gc.collect()"
   ]
  },
  {
   "cell_type": "code",
   "execution_count": 40,
   "metadata": {
    "collapsed": false
   },
   "outputs": [
    {
     "name": "stdout",
     "output_type": "stream",
     "text": [
      "Image Loaded: ../data/raw/Control182.img\n",
      "Coverting to points...\n",
      "token=Control182\n",
      "total=414695424\n",
      "max=14589.000000\n",
      "threshold=0.100000\n",
      "sample=0.400000\n",
      "(This will take couple minutes)\n",
      "Above threshold=92917\n",
      "Samples=37065\n",
      "Finished\n",
      "Control182.csv saved.\n"
     ]
    },
    {
     "data": {
      "text/plain": [
       "0"
      ]
     },
     "execution_count": 40,
     "metadata": {},
     "output_type": "execute_result"
    }
   ],
   "source": [
    "c = cl.Clarity('Control182')\n",
    "    #fname = rs.HIST_DATA_PATH+token+\".csv\"\n",
    "claritycsv = c.loadImg().imgToPoints(threshold=0.1,sample=0.4).savePoints()\n",
    "    #np.savetxt(token,claritycsv,delimiter=',')\n",
    "print \"Control182.csv saved.\"\n",
    "del c\n",
    "gc.collect()"
   ]
  },
  {
   "cell_type": "code",
   "execution_count": 52,
   "metadata": {
    "collapsed": false
   },
   "outputs": [
    {
     "name": "stdout",
     "output_type": "stream",
     "text": [
      "Image Loaded: ../data/raw/Control189.img\n",
      "Coverting to points...\n",
      "token=Control189\n",
      "total=709795840\n",
      "max=32767.000000\n",
      "threshold=0.020000\n",
      "sample=0.180000\n",
      "(This will take couple minutes)\n",
      "Above threshold=218433\n",
      "Samples=39305\n",
      "Finished\n",
      "Control189.csv saved.\n"
     ]
    },
    {
     "data": {
      "text/plain": [
       "0"
      ]
     },
     "execution_count": 52,
     "metadata": {},
     "output_type": "execute_result"
    }
   ],
   "source": [
    "c = cl.Clarity('Control189')\n",
    "    #fname = rs.HIST_DATA_PATH+token+\".csv\"\n",
    "claritycsv = c.loadImg().imgToPoints(threshold=0.02,sample=0.18).savePoints()\n",
    "    #np.savetxt(token,claritycsv,delimiter=',')\n",
    "print \"Control189.csv saved.\"\n",
    "del c\n",
    "gc.collect()"
   ]
  },
  {
   "cell_type": "code",
   "execution_count": 57,
   "metadata": {
    "collapsed": false
   },
   "outputs": [
    {
     "name": "stdout",
     "output_type": "stream",
     "text": [
      "Image Loaded: ../data/raw/Control239.img\n",
      "Coverting to points...\n",
      "token=Control239\n",
      "total=675840000\n",
      "max=3742.000000\n",
      "threshold=0.200000\n",
      "sample=0.110000\n",
      "(This will take couple minutes)\n",
      "Above threshold=354342\n",
      "Samples=39044\n",
      "Finished\n",
      "Control239.csv saved.\n"
     ]
    },
    {
     "data": {
      "text/plain": [
       "0"
      ]
     },
     "execution_count": 57,
     "metadata": {},
     "output_type": "execute_result"
    }
   ],
   "source": [
    "c = cl.Clarity('Control239')\n",
    "    #fname = rs.HIST_DATA_PATH+token+\".csv\"\n",
    "claritycsv = c.loadImg().imgToPoints(threshold=0.2,sample=0.11).savePoints()\n",
    "    #np.savetxt(token,claritycsv,delimiter=',')\n",
    "print \"Control239.csv saved.\"\n",
    "del c\n",
    "gc.collect()"
   ]
  },
  {
   "cell_type": "code",
   "execution_count": 64,
   "metadata": {
    "collapsed": false
   },
   "outputs": [
    {
     "name": "stdout",
     "output_type": "stream",
     "text": [
      "Image Loaded: ../data/raw/Control258.img\n",
      "Coverting to points...\n",
      "token=Control258\n",
      "total=577237481\n",
      "max=32767.000000\n",
      "threshold=0.030000\n",
      "sample=0.099000\n",
      "(This will take couple minutes)\n",
      "Above threshold=398853\n",
      "Samples=39907\n",
      "Finished\n",
      "Control258.csv saved.\n"
     ]
    },
    {
     "data": {
      "text/plain": [
       "0"
      ]
     },
     "execution_count": 64,
     "metadata": {},
     "output_type": "execute_result"
    }
   ],
   "source": [
    "c = cl.Clarity('Control258')\n",
    "    #fname = rs.HIST_DATA_PATH+token+\".csv\"\n",
    "claritycsv = c.loadImg().imgToPoints(threshold=0.03,sample=0.099).savePoints()\n",
    "    #np.savetxt(token,claritycsv,delimiter=',')\n",
    "print \"Control258.csv saved.\"\n",
    "del c\n",
    "gc.collect()"
   ]
  },
  {
   "cell_type": "code",
   "execution_count": 72,
   "metadata": {
    "collapsed": false
   },
   "outputs": [
    {
     "name": "stdout",
     "output_type": "stream",
     "text": [
      "Image Loaded: ../data/raw/Fear187.img\n",
      "Coverting to points...\n",
      "token=Fear187\n",
      "total=560996352\n",
      "max=10320.000000\n",
      "threshold=0.100000\n",
      "sample=0.110000\n",
      "(This will take couple minutes)\n",
      "Above threshold=344963\n",
      "Samples=37897\n",
      "Finished\n",
      "Fear187.csv saved.\n"
     ]
    },
    {
     "data": {
      "text/plain": [
       "0"
      ]
     },
     "execution_count": 72,
     "metadata": {},
     "output_type": "execute_result"
    }
   ],
   "source": [
    "c = cl.Clarity('Fear187')\n",
    "    #fname = rs.HIST_DATA_PATH+token+\".csv\"\n",
    "claritycsv = c.loadImg().imgToPoints(threshold=0.1,sample=0.11).savePoints()\n",
    "    #np.savetxt(token,claritycsv,delimiter=',')\n",
    "print \"Fear187.csv saved.\"\n",
    "del c\n",
    "gc.collect()"
   ]
  },
  {
   "cell_type": "code",
   "execution_count": 74,
   "metadata": {
    "collapsed": false
   },
   "outputs": [
    {
     "name": "stdout",
     "output_type": "stream",
     "text": [
      "Image Loaded: ../data/raw/Fear197.img\n",
      "Coverting to points...\n",
      "token=Fear197\n",
      "total=584130560\n",
      "max=32767.000000\n",
      "threshold=0.050000\n",
      "sample=0.500000\n",
      "(This will take couple minutes)\n",
      "Above threshold=76129\n",
      "Samples=38487\n",
      "Finished\n",
      "Fear197.csv saved.\n"
     ]
    },
    {
     "data": {
      "text/plain": [
       "0"
      ]
     },
     "execution_count": 74,
     "metadata": {},
     "output_type": "execute_result"
    }
   ],
   "source": [
    "c = cl.Clarity('Fear197')\n",
    "    #fname = rs.HIST_DATA_PATH+token+\".csv\"\n",
    "claritycsv = c.loadImg().imgToPoints(threshold=0.05,sample=0.5).savePoints()\n",
    "    #np.savetxt(token,claritycsv,delimiter=',')\n",
    "print \"Fear197.csv saved.\"\n",
    "del c\n",
    "gc.collect()"
   ]
  },
  {
   "cell_type": "code",
   "execution_count": 80,
   "metadata": {
    "collapsed": false
   },
   "outputs": [
    {
     "name": "stdout",
     "output_type": "stream",
     "text": [
      "Image Loaded: ../data/raw/Fear199.img\n",
      "Coverting to points...\n",
      "token=Fear199\n",
      "total=600735744\n",
      "max=10950.000000\n",
      "threshold=0.050000\n",
      "sample=0.125000\n",
      "(This will take couple minutes)\n",
      "Above threshold=306348\n",
      "Samples=38316\n",
      "Finished\n",
      "Fear199.csv saved.\n"
     ]
    },
    {
     "data": {
      "text/plain": [
       "0"
      ]
     },
     "execution_count": 80,
     "metadata": {},
     "output_type": "execute_result"
    }
   ],
   "source": [
    "c = cl.Clarity('Fear199')\n",
    "    #fname = rs.HIST_DATA_PATH+token+\".csv\"\n",
    "claritycsv = c.loadImg().imgToPoints(threshold=0.05,sample=0.125).savePoints()\n",
    "    #np.savetxt(token,claritycsv,delimiter=',')\n",
    "print \"Fear199.csv saved.\"\n",
    "del c\n",
    "gc.collect()"
   ]
  },
  {
   "cell_type": "code",
   "execution_count": 91,
   "metadata": {
    "collapsed": false
   },
   "outputs": [
    {
     "name": "stdout",
     "output_type": "stream",
     "text": [
      "Image Loaded: ../data/raw/Fear200.img\n",
      "Coverting to points...\n",
      "token=Fear200\n",
      "total=572866560\n",
      "max=32767.000000\n",
      "threshold=0.050000\n",
      "sample=0.260000\n",
      "(This will take couple minutes)\n",
      "Above threshold=149406\n",
      "Samples=38953\n",
      "Finished\n",
      "Fear200.csv saved.\n"
     ]
    },
    {
     "data": {
      "text/plain": [
       "0"
      ]
     },
     "execution_count": 91,
     "metadata": {},
     "output_type": "execute_result"
    }
   ],
   "source": [
    "c = cl.Clarity('Fear200')\n",
    "    #fname = rs.HIST_DATA_PATH+token+\".csv\"\n",
    "claritycsv = c.loadImg().imgToPoints(threshold=0.05,sample=0.26).savePoints()\n",
    "    #np.savetxt(token,claritycsv,delimiter=',')\n",
    "print \"Fear200.csv saved.\"\n",
    "del c\n",
    "gc.collect()"
   ]
  },
  {
   "cell_type": "code",
   "execution_count": 69,
   "metadata": {
    "collapsed": false
   },
   "outputs": [
    {
     "name": "stdout",
     "output_type": "stream",
     "text": [
      "Cocaine174\n"
     ]
    },
    {
     "data": {
      "text/html": [
       "<iframe id=\"igraph\" scrolling=\"no\" style=\"border:none;\" seamless=\"seamless\" src=\"https://plot.ly/~poorwabbit/6.embed\" height=\"525px\" width=\"100%\"></iframe>"
      ],
      "text/plain": [
       "<plotly.tools.PlotlyDisplay object>"
      ]
     },
     "execution_count": 69,
     "metadata": {},
     "output_type": "execute_result"
    }
   ],
   "source": [
    "thedata = np.genfromtxt('../data/points/Cocaine174.csv', delimiter=',', dtype='int', usecols = (0,1,2), names=['a','b','c'])\n",
    "\n",
    "trace1 = go.Scatter3d(\n",
    "    x = thedata['a'],\n",
    "    y = thedata['b'],\n",
    "    z = thedata['c'],\n",
    "    mode='markers',\n",
    "    marker=dict(\n",
    "        size=1,\n",
    "        color='purple',                # set color to an array/list of desired values\n",
    "        colorscale='Viridis',   # choose a colorscale\n",
    "        opacity=0.05\n",
    "    )\n",
    ")\n",
    "\n",
    "data = [trace1]\n",
    "layout = go.Layout(\n",
    "    margin=dict(\n",
    "        l=0,\n",
    "        r=0,\n",
    "        b=0,\n",
    "        t=0\n",
    "    )\n",
    ")\n",
    "    \n",
    "fig = go.Figure(data=data, layout=layout)\n",
    "print \"Cocaine174\"\n",
    "py.iplot(fig, filename= \"Cocaine174\")"
   ]
  },
  {
   "cell_type": "code",
   "execution_count": 92,
   "metadata": {
    "collapsed": false
   },
   "outputs": [
    {
     "name": "stdout",
     "output_type": "stream",
     "text": [
      "Cocaine175\n"
     ]
    },
    {
     "data": {
      "text/html": [
       "<iframe id=\"igraph\" scrolling=\"no\" style=\"border:none;\" seamless=\"seamless\" src=\"https://plot.ly/~poorwabbit/8.embed\" height=\"525px\" width=\"100%\"></iframe>"
      ],
      "text/plain": [
       "<plotly.tools.PlotlyDisplay object>"
      ]
     },
     "execution_count": 92,
     "metadata": {},
     "output_type": "execute_result"
    }
   ],
   "source": [
    "thedata = np.genfromtxt('../data/points/Cocaine175.csv', delimiter=',', dtype='int', usecols = (0,1,2), names=['a','b','c'])\n",
    "\n",
    "trace1 = go.Scatter3d(\n",
    "    x = thedata['a'],\n",
    "    y = thedata['b'],\n",
    "    z = thedata['c'],\n",
    "    mode='markers',\n",
    "    marker=dict(\n",
    "        size=1,\n",
    "        color='purple',                # set color to an array/list of desired values\n",
    "        colorscale='Viridis',   # choose a colorscale\n",
    "        opacity=0.05\n",
    "    )\n",
    ")\n",
    "\n",
    "data = [trace1]\n",
    "layout = go.Layout(\n",
    "    margin=dict(\n",
    "        l=0,\n",
    "        r=0,\n",
    "        b=0,\n",
    "        t=0\n",
    "    )\n",
    ")\n",
    "    \n",
    "fig = go.Figure(data=data, layout=layout)\n",
    "print \"Cocaine175\"\n",
    "py.iplot(fig, filename= \"Cocaine175\")"
   ]
  },
  {
   "cell_type": "code",
   "execution_count": 93,
   "metadata": {
    "collapsed": false
   },
   "outputs": [
    {
     "name": "stdout",
     "output_type": "stream",
     "text": [
      "Cocaine178\n"
     ]
    },
    {
     "data": {
      "text/html": [
       "<iframe id=\"igraph\" scrolling=\"no\" style=\"border:none;\" seamless=\"seamless\" src=\"https://plot.ly/~poorwabbit/10.embed\" height=\"525px\" width=\"100%\"></iframe>"
      ],
      "text/plain": [
       "<plotly.tools.PlotlyDisplay object>"
      ]
     },
     "execution_count": 93,
     "metadata": {},
     "output_type": "execute_result"
    }
   ],
   "source": [
    "thedata = np.genfromtxt('../data/points/Cocaine178.csv', delimiter=',', dtype='int', usecols = (0,1,2), names=['a','b','c'])\n",
    "\n",
    "trace1 = go.Scatter3d(\n",
    "    x = thedata['a'],\n",
    "    y = thedata['b'],\n",
    "    z = thedata['c'],\n",
    "    mode='markers',\n",
    "    marker=dict(\n",
    "        size=1,\n",
    "        color='purple',                # set color to an array/list of desired values\n",
    "        colorscale='Viridis',   # choose a colorscale\n",
    "        opacity=0.05\n",
    "    )\n",
    ")\n",
    "\n",
    "data = [trace1]\n",
    "layout = go.Layout(\n",
    "    margin=dict(\n",
    "        l=0,\n",
    "        r=0,\n",
    "        b=0,\n",
    "        t=0\n",
    "    )\n",
    ")\n",
    "    \n",
    "fig = go.Figure(data=data, layout=layout)\n",
    "print \"Cocaine178\"\n",
    "py.iplot(fig, filename= \"Cocaine178\")"
   ]
  },
  {
   "cell_type": "code",
   "execution_count": 94,
   "metadata": {
    "collapsed": false
   },
   "outputs": [
    {
     "name": "stdout",
     "output_type": "stream",
     "text": [
      "Control181\n"
     ]
    },
    {
     "data": {
      "text/html": [
       "<iframe id=\"igraph\" scrolling=\"no\" style=\"border:none;\" seamless=\"seamless\" src=\"https://plot.ly/~poorwabbit/12.embed\" height=\"525px\" width=\"100%\"></iframe>"
      ],
      "text/plain": [
       "<plotly.tools.PlotlyDisplay object>"
      ]
     },
     "execution_count": 94,
     "metadata": {},
     "output_type": "execute_result"
    }
   ],
   "source": [
    "thedata = np.genfromtxt('../data/points/Control181.csv', delimiter=',', dtype='int', usecols = (0,1,2), names=['a','b','c'])\n",
    "\n",
    "trace1 = go.Scatter3d(\n",
    "    x = thedata['a'],\n",
    "    y = thedata['b'],\n",
    "    z = thedata['c'],\n",
    "    mode='markers',\n",
    "    marker=dict(\n",
    "        size=1,\n",
    "        color='purple',                # set color to an array/list of desired values\n",
    "        colorscale='Viridis',   # choose a colorscale\n",
    "        opacity=0.05\n",
    "    )\n",
    ")\n",
    "\n",
    "data = [trace1]\n",
    "layout = go.Layout(\n",
    "    margin=dict(\n",
    "        l=0,\n",
    "        r=0,\n",
    "        b=0,\n",
    "        t=0\n",
    "    )\n",
    ")\n",
    "    \n",
    "fig = go.Figure(data=data, layout=layout)\n",
    "print \"Control181\"\n",
    "py.iplot(fig, filename= \"Control181\")"
   ]
  },
  {
   "cell_type": "code",
   "execution_count": 95,
   "metadata": {
    "collapsed": false
   },
   "outputs": [
    {
     "name": "stdout",
     "output_type": "stream",
     "text": [
      "Control182\n"
     ]
    },
    {
     "data": {
      "text/html": [
       "<iframe id=\"igraph\" scrolling=\"no\" style=\"border:none;\" seamless=\"seamless\" src=\"https://plot.ly/~poorwabbit/14.embed\" height=\"525px\" width=\"100%\"></iframe>"
      ],
      "text/plain": [
       "<plotly.tools.PlotlyDisplay object>"
      ]
     },
     "execution_count": 95,
     "metadata": {},
     "output_type": "execute_result"
    }
   ],
   "source": [
    "thedata = np.genfromtxt('../data/points/Control182.csv', delimiter=',', dtype='int', usecols = (0,1,2), names=['a','b','c'])\n",
    "\n",
    "trace1 = go.Scatter3d(\n",
    "    x = thedata['a'],\n",
    "    y = thedata['b'],\n",
    "    z = thedata['c'],\n",
    "    mode='markers',\n",
    "    marker=dict(\n",
    "        size=1,\n",
    "        color='purple',                # set color to an array/list of desired values\n",
    "        colorscale='Viridis',   # choose a colorscale\n",
    "        opacity=0.05\n",
    "    )\n",
    ")\n",
    "\n",
    "data = [trace1]\n",
    "layout = go.Layout(\n",
    "    margin=dict(\n",
    "        l=0,\n",
    "        r=0,\n",
    "        b=0,\n",
    "        t=0\n",
    "    )\n",
    ")\n",
    "    \n",
    "fig = go.Figure(data=data, layout=layout)\n",
    "print \"Control182\"\n",
    "py.iplot(fig, filename= \"Control182\")"
   ]
  },
  {
   "cell_type": "code",
   "execution_count": 96,
   "metadata": {
    "collapsed": false
   },
   "outputs": [
    {
     "name": "stdout",
     "output_type": "stream",
     "text": [
      "Control189\n"
     ]
    },
    {
     "data": {
      "text/html": [
       "<iframe id=\"igraph\" scrolling=\"no\" style=\"border:none;\" seamless=\"seamless\" src=\"https://plot.ly/~poorwabbit/16.embed\" height=\"525px\" width=\"100%\"></iframe>"
      ],
      "text/plain": [
       "<plotly.tools.PlotlyDisplay object>"
      ]
     },
     "execution_count": 96,
     "metadata": {},
     "output_type": "execute_result"
    }
   ],
   "source": [
    "thedata = np.genfromtxt('../data/points/Control189.csv', delimiter=',', dtype='int', usecols = (0,1,2), names=['a','b','c'])\n",
    "\n",
    "trace1 = go.Scatter3d(\n",
    "    x = thedata['a'],\n",
    "    y = thedata['b'],\n",
    "    z = thedata['c'],\n",
    "    mode='markers',\n",
    "    marker=dict(\n",
    "        size=1,\n",
    "        color='purple',                # set color to an array/list of desired values\n",
    "        colorscale='Viridis',   # choose a colorscale\n",
    "        opacity=0.05\n",
    "    )\n",
    ")\n",
    "\n",
    "data = [trace1]\n",
    "layout = go.Layout(\n",
    "    margin=dict(\n",
    "        l=0,\n",
    "        r=0,\n",
    "        b=0,\n",
    "        t=0\n",
    "    )\n",
    ")\n",
    "    \n",
    "fig = go.Figure(data=data, layout=layout)\n",
    "print \"Control189\"\n",
    "py.iplot(fig, filename= \"Control189\")"
   ]
  },
  {
   "cell_type": "code",
   "execution_count": 97,
   "metadata": {
    "collapsed": false
   },
   "outputs": [
    {
     "name": "stdout",
     "output_type": "stream",
     "text": [
      "Control239\n"
     ]
    },
    {
     "data": {
      "text/html": [
       "<iframe id=\"igraph\" scrolling=\"no\" style=\"border:none;\" seamless=\"seamless\" src=\"https://plot.ly/~poorwabbit/18.embed\" height=\"525px\" width=\"100%\"></iframe>"
      ],
      "text/plain": [
       "<plotly.tools.PlotlyDisplay object>"
      ]
     },
     "execution_count": 97,
     "metadata": {},
     "output_type": "execute_result"
    }
   ],
   "source": [
    "thedata = np.genfromtxt('../data/points/Control239.csv', delimiter=',', dtype='int', usecols = (0,1,2), names=['a','b','c'])\n",
    "\n",
    "trace1 = go.Scatter3d(\n",
    "    x = thedata['a'],\n",
    "    y = thedata['b'],\n",
    "    z = thedata['c'],\n",
    "    mode='markers',\n",
    "    marker=dict(\n",
    "        size=1,\n",
    "        color='purple',                # set color to an array/list of desired values\n",
    "        colorscale='Viridis',   # choose a colorscale\n",
    "        opacity=0.05\n",
    "    )\n",
    ")\n",
    "\n",
    "data = [trace1]\n",
    "layout = go.Layout(\n",
    "    margin=dict(\n",
    "        l=0,\n",
    "        r=0,\n",
    "        b=0,\n",
    "        t=0\n",
    "    )\n",
    ")\n",
    "    \n",
    "fig = go.Figure(data=data, layout=layout)\n",
    "print \"Control239\"\n",
    "py.iplot(fig, filename= \"Control239\")"
   ]
  },
  {
   "cell_type": "code",
   "execution_count": 98,
   "metadata": {
    "collapsed": false
   },
   "outputs": [
    {
     "name": "stdout",
     "output_type": "stream",
     "text": [
      "Control258\n"
     ]
    },
    {
     "data": {
      "text/html": [
       "<iframe id=\"igraph\" scrolling=\"no\" style=\"border:none;\" seamless=\"seamless\" src=\"https://plot.ly/~poorwabbit/20.embed\" height=\"525px\" width=\"100%\"></iframe>"
      ],
      "text/plain": [
       "<plotly.tools.PlotlyDisplay object>"
      ]
     },
     "execution_count": 98,
     "metadata": {},
     "output_type": "execute_result"
    }
   ],
   "source": [
    "thedata = np.genfromtxt('../data/points/Control258.csv', delimiter=',', dtype='int', usecols = (0,1,2), names=['a','b','c'])\n",
    "\n",
    "trace1 = go.Scatter3d(\n",
    "    x = thedata['a'],\n",
    "    y = thedata['b'],\n",
    "    z = thedata['c'],\n",
    "    mode='markers',\n",
    "    marker=dict(\n",
    "        size=1,\n",
    "        color='purple',                # set color to an array/list of desired values\n",
    "        colorscale='Viridis',   # choose a colorscale\n",
    "        opacity=0.05\n",
    "    )\n",
    ")\n",
    "\n",
    "data = [trace1]\n",
    "layout = go.Layout(\n",
    "    margin=dict(\n",
    "        l=0,\n",
    "        r=0,\n",
    "        b=0,\n",
    "        t=0\n",
    "    )\n",
    ")\n",
    "    \n",
    "fig = go.Figure(data=data, layout=layout)\n",
    "print \"Control258\"\n",
    "py.iplot(fig, filename= \"Control258\")"
   ]
  },
  {
   "cell_type": "code",
   "execution_count": 99,
   "metadata": {
    "collapsed": false
   },
   "outputs": [
    {
     "name": "stdout",
     "output_type": "stream",
     "text": [
      "Fear187\n"
     ]
    },
    {
     "data": {
      "text/html": [
       "<iframe id=\"igraph\" scrolling=\"no\" style=\"border:none;\" seamless=\"seamless\" src=\"https://plot.ly/~poorwabbit/22.embed\" height=\"525px\" width=\"100%\"></iframe>"
      ],
      "text/plain": [
       "<plotly.tools.PlotlyDisplay object>"
      ]
     },
     "execution_count": 99,
     "metadata": {},
     "output_type": "execute_result"
    }
   ],
   "source": [
    "thedata = np.genfromtxt('../data/points/Fear187.csv', delimiter=',', dtype='int', usecols = (0,1,2), names=['a','b','c'])\n",
    "\n",
    "trace1 = go.Scatter3d(\n",
    "    x = thedata['a'],\n",
    "    y = thedata['b'],\n",
    "    z = thedata['c'],\n",
    "    mode='markers',\n",
    "    marker=dict(\n",
    "        size=1,\n",
    "        color='purple',                # set color to an array/list of desired values\n",
    "        colorscale='Viridis',   # choose a colorscale\n",
    "        opacity=0.05\n",
    "    )\n",
    ")\n",
    "\n",
    "data = [trace1]\n",
    "layout = go.Layout(\n",
    "    margin=dict(\n",
    "        l=0,\n",
    "        r=0,\n",
    "        b=0,\n",
    "        t=0\n",
    "    )\n",
    ")\n",
    "    \n",
    "fig = go.Figure(data=data, layout=layout)\n",
    "print \"Fear187\"\n",
    "py.iplot(fig, filename= \"Fear187\")"
   ]
  },
  {
   "cell_type": "code",
   "execution_count": 100,
   "metadata": {
    "collapsed": false
   },
   "outputs": [
    {
     "name": "stdout",
     "output_type": "stream",
     "text": [
      "Fear197\n"
     ]
    },
    {
     "data": {
      "text/html": [
       "<iframe id=\"igraph\" scrolling=\"no\" style=\"border:none;\" seamless=\"seamless\" src=\"https://plot.ly/~poorwabbit/24.embed\" height=\"525px\" width=\"100%\"></iframe>"
      ],
      "text/plain": [
       "<plotly.tools.PlotlyDisplay object>"
      ]
     },
     "execution_count": 100,
     "metadata": {},
     "output_type": "execute_result"
    }
   ],
   "source": [
    "thedata = np.genfromtxt('../data/points/Fear197.csv', delimiter=',', dtype='int', usecols = (0,1,2), names=['a','b','c'])\n",
    "\n",
    "trace1 = go.Scatter3d(\n",
    "    x = thedata['a'],\n",
    "    y = thedata['b'],\n",
    "    z = thedata['c'],\n",
    "    mode='markers',\n",
    "    marker=dict(\n",
    "        size=1,\n",
    "        color='purple',                # set color to an array/list of desired values\n",
    "        colorscale='Viridis',   # choose a colorscale\n",
    "        opacity=0.05\n",
    "    )\n",
    ")\n",
    "\n",
    "data = [trace1]\n",
    "layout = go.Layout(\n",
    "    margin=dict(\n",
    "        l=0,\n",
    "        r=0,\n",
    "        b=0,\n",
    "        t=0\n",
    "    )\n",
    ")\n",
    "    \n",
    "fig = go.Figure(data=data, layout=layout)\n",
    "print \"Fear197\"\n",
    "py.iplot(fig, filename= \"Fear197\")"
   ]
  },
  {
   "cell_type": "code",
   "execution_count": 101,
   "metadata": {
    "collapsed": false
   },
   "outputs": [
    {
     "name": "stdout",
     "output_type": "stream",
     "text": [
      "Fear199\n"
     ]
    },
    {
     "data": {
      "text/html": [
       "<iframe id=\"igraph\" scrolling=\"no\" style=\"border:none;\" seamless=\"seamless\" src=\"https://plot.ly/~poorwabbit/26.embed\" height=\"525px\" width=\"100%\"></iframe>"
      ],
      "text/plain": [
       "<plotly.tools.PlotlyDisplay object>"
      ]
     },
     "execution_count": 101,
     "metadata": {},
     "output_type": "execute_result"
    }
   ],
   "source": [
    "thedata = np.genfromtxt('../data/points/Fear199.csv', delimiter=',', dtype='int', usecols = (0,1,2), names=['a','b','c'])\n",
    "\n",
    "trace1 = go.Scatter3d(\n",
    "    x = thedata['a'],\n",
    "    y = thedata['b'],\n",
    "    z = thedata['c'],\n",
    "    mode='markers',\n",
    "    marker=dict(\n",
    "        size=1,\n",
    "        color='purple',                # set color to an array/list of desired values\n",
    "        colorscale='Viridis',   # choose a colorscale\n",
    "        opacity=0.05\n",
    "    )\n",
    ")\n",
    "\n",
    "data = [trace1]\n",
    "layout = go.Layout(\n",
    "    margin=dict(\n",
    "        l=0,\n",
    "        r=0,\n",
    "        b=0,\n",
    "        t=0\n",
    "    )\n",
    ")\n",
    "    \n",
    "fig = go.Figure(data=data, layout=layout)\n",
    "print \"Fear199\"\n",
    "py.iplot(fig, filename= \"Fear199\")"
   ]
  },
  {
   "cell_type": "code",
   "execution_count": 102,
   "metadata": {
    "collapsed": false
   },
   "outputs": [
    {
     "name": "stdout",
     "output_type": "stream",
     "text": [
      "Fear200\n"
     ]
    },
    {
     "data": {
      "text/html": [
       "<iframe id=\"igraph\" scrolling=\"no\" style=\"border:none;\" seamless=\"seamless\" src=\"https://plot.ly/~poorwabbit/28.embed\" height=\"525px\" width=\"100%\"></iframe>"
      ],
      "text/plain": [
       "<plotly.tools.PlotlyDisplay object>"
      ]
     },
     "execution_count": 102,
     "metadata": {},
     "output_type": "execute_result"
    }
   ],
   "source": [
    "thedata = np.genfromtxt('../data/points/Fear200.csv', delimiter=',', dtype='int', usecols = (0,1,2), names=['a','b','c'])\n",
    "\n",
    "trace1 = go.Scatter3d(\n",
    "    x = thedata['a'],\n",
    "    y = thedata['b'],\n",
    "    z = thedata['c'],\n",
    "    mode='markers',\n",
    "    marker=dict(\n",
    "        size=1,\n",
    "        color='purple',                # set color to an array/list of desired values\n",
    "        colorscale='Viridis',   # choose a colorscale\n",
    "        opacity=0.05\n",
    "    )\n",
    ")\n",
    "\n",
    "data = [trace1]\n",
    "layout = go.Layout(\n",
    "    margin=dict(\n",
    "        l=0,\n",
    "        r=0,\n",
    "        b=0,\n",
    "        t=0\n",
    "    )\n",
    ")\n",
    "    \n",
    "fig = go.Figure(data=data, layout=layout)\n",
    "print \"Fear200\"\n",
    "py.iplot(fig, filename= \"Fear200\")"
   ]
  }
 ],
 "metadata": {
  "kernelspec": {
   "display_name": "Python 2",
   "language": "python",
   "name": "python2"
  },
  "language_info": {
   "codemirror_mode": {
    "name": "ipython",
    "version": 2
   },
   "file_extension": ".py",
   "mimetype": "text/x-python",
   "name": "python",
   "nbconvert_exporter": "python",
   "pygments_lexer": "ipython2",
   "version": "2.7.11"
  }
 },
 "nbformat": 4,
 "nbformat_minor": 0
}
