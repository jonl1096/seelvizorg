{
 "cells": [
  {
   "cell_type": "code",
   "execution_count": 1,
   "metadata": {
    "collapsed": true
   },
   "outputs": [],
   "source": [
    "import os\n",
    "PATH=\"/Users/albertlee/claritycontrol/code/scripts/\" # use your own path\n",
    "os.chdir(PATH)\n",
    "\n",
    "import clarity as cl  # I wrote this module for easier operations on data\n",
    "import clarity.resources as rs\n",
    "import csv,gc  # garbage memory collection :)\n",
    "\n",
    "import numpy as np\n",
    "import matplotlib.pyplot as plt\n",
    "from mpl_toolkits.mplot3d import axes3d\n",
    "import jgraph as ig\n",
    "\n",
    "import plotly.plotly as py\n",
    "import plotly.graph_objs as go\n",
    "\n",
    "%matplotlib inline"
   ]
  },
  {
   "cell_type": "code",
   "execution_count": null,
   "metadata": {
    "collapsed": false
   },
   "outputs": [],
   "source": [
    "for token in rs.TOKENS:\n",
    "    c = cl.Clarity(token)\n",
    "    #fname = rs.HIST_DATA_PATH+token+\".csv\"\n",
    "    claritycsv = c.loadImg().imgToPoints(threshold=0.9,sample=0.1).savePoints()\n",
    "    np.savetxt(token,claritycsv,delimiter=',')\n",
    "    print token,\".csv saved.\"\n",
    "    del c\n",
    "    gc.collect()"
   ]
  },
  {
   "cell_type": "code",
   "execution_count": null,
   "metadata": {
    "collapsed": true
   },
   "outputs": [],
   "source": [
    " for token in rs.TOKENS:   \n",
    "    thedata = np.genfromtxt('jovo.csv', delimiter=',', dtype='int', usecols = (0,1,2), names=['a','b','c'])\n",
    "\n",
    "    trace1 = go.Scatter3d(\n",
    "        x = thedata['a'],\n",
    "        y = thedata['b'],\n",
    "        z = thedata['c'],\n",
    "        mode='markers',\n",
    "        marker=dict(\n",
    "            size=1,\n",
    "            color='purple',                # set color to an array/list of desired values\n",
    "            colorscale='Viridis',   # choose a colorscale\n",
    "            opacity=0.05\n",
    "        )\n",
    "    )\n",
    "\n",
    "    data = [trace1]\n",
    "    layout = go.Layout(\n",
    "        margin=dict(\n",
    "            l=0,\n",
    "            r=0,\n",
    "            b=0,\n",
    "            t=0\n",
    "        )\n",
    "    )\n",
    "    fig = go.Figure(data=data, layout=layout)\n",
    "    print fname, \"plotted.\"\n",
    "    iplot(fig, filename='3d-scatter-colorscale')"
   ]
  }
 ],
 "metadata": {
  "kernelspec": {
   "display_name": "Python 2",
   "language": "python",
   "name": "python2"
  },
  "language_info": {
   "codemirror_mode": {
    "name": "ipython",
    "version": 2
   },
   "file_extension": ".py",
   "mimetype": "text/x-python",
   "name": "python",
   "nbconvert_exporter": "python",
   "pygments_lexer": "ipython2",
   "version": "2.7.11"
  }
 },
 "nbformat": 4,
 "nbformat_minor": 0
}
